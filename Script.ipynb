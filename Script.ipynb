{
  "nbformat": 4,
  "nbformat_minor": 0,
  "metadata": {
    "colab": {
      "provenance": [],
      "gpuType": "T4"
    },
    "kernelspec": {
      "name": "python3",
      "display_name": "Python 3"
    },
    "language_info": {
      "name": "python"
    }
  },
  "cells": [
    {
      "cell_type": "markdown",
      "source": [
        "# Introduction and Objective:\n",
        "\n",
        "Earthquakes are one of the most destructive natural hazards on Earth. They can cause widespread damage and loss of life. In recent years, there has been growing interest in using machine learning to predict earthquakes. This project will use machine learning models to predict future earthquakes using the Ultimate Earthquake Dataset: https://www.kaggle.com/datasets/alessandrolobello/the-ultimate-earthquake-dataset-from-1990-2023. The dataset contains information on over 3 million earthquakes that occurred worldwide from 1990 to 2023.\n",
        "\n",
        "The project will use Linear Regression. The model will be trained on the dataset and it's performance will be evaluated on a held-out test set. The best model will be deployed to production so that it can be used to predict future earthquakes.\n",
        "\n",
        "This project has the potential to make a significant contribution to earthquake prediction. By using machine learning, it may be possible to develop more accurate and reliable earthquake prediction models. This could help to save lives and reduce the damage caused by earthquakes."
      ],
      "metadata": {
        "id": "VCwAjIlNaZP6"
      }
    },
    {
      "cell_type": "code",
      "source": [
        "!mkdir -p ~/.kaggle"
      ],
      "metadata": {
        "id": "DfhRy_rUNsc4"
      },
      "execution_count": null,
      "outputs": []
    },
    {
      "cell_type": "code",
      "source": [
        "!cp kaggle.json /root/.kaggle/"
      ],
      "metadata": {
        "id": "mAQqp38LNseX"
      },
      "execution_count": null,
      "outputs": []
    },
    {
      "cell_type": "code",
      "source": [
        "import os\n",
        "for filename in os.listdir('/content'):\n",
        "    print(filename)"
      ],
      "metadata": {
        "id": "Sbf9w28PNskL"
      },
      "execution_count": null,
      "outputs": []
    },
    {
      "cell_type": "code",
      "source": [
        "# Set the permissions for the kaggle.json file to make it readable only by the owner\n",
        "!chmod 777 /root/.kaggle"
      ],
      "metadata": {
        "id": "0xy5YlanNspX"
      },
      "execution_count": null,
      "outputs": []
    },
    {
      "cell_type": "code",
      "source": [
        "!kaggle datasets download -d alessandrolobello/the-ultimate-earthquake-dataset-from-1990-2023"
      ],
      "metadata": {
        "id": "7iG40rB4Nsux"
      },
      "execution_count": null,
      "outputs": []
    },
    {
      "cell_type": "code",
      "source": [
        "!unzip the-ultimate-earthquake-dataset-from-1990-2023.zip"
      ],
      "metadata": {
        "id": "k5LCzK4GNswQ"
      },
      "execution_count": null,
      "outputs": []
    },
    {
      "cell_type": "markdown",
      "source": [
        "## 1. Importing necessary libraries:"
      ],
      "metadata": {
        "id": "cdkqxmfpbQUJ"
      }
    },
    {
      "cell_type": "code",
      "source": [
        "# Basics\n",
        "import pandas as pd\n",
        "import numpy as np\n",
        "import matplotlib.pyplot as plt\n",
        "import seaborn as sns\n",
        "\n",
        "# For better plots\n",
        "import plotly.express as px\n",
        "import plotly.graph_objects as go\n",
        "\n",
        "# ML libraries\n",
        "from sklearn.model_selection import train_test_split\n",
        "from sklearn.linear_model import LinearRegression\n",
        "from sklearn.metrics import mean_squared_error\n",
        "from sklearn.metrics import accuracy_score\n",
        "\n",
        "# Deep-learning\n",
        "import tensorflow as tf"
      ],
      "metadata": {
        "id": "Cg8ek-zUbP3a"
      },
      "execution_count": null,
      "outputs": []
    },
    {
      "cell_type": "markdown",
      "source": [
        "## 2. Importing Data:"
      ],
      "metadata": {
        "id": "F0UFyoD-cTBO"
      }
    },
    {
      "cell_type": "code",
      "source": [
        "data = pd.read_csv(\"/content/Eartquakes-1990-2023.csv\")"
      ],
      "metadata": {
        "id": "4FSAmz2TcWNu"
      },
      "execution_count": null,
      "outputs": []
    },
    {
      "cell_type": "markdown",
      "source": [
        "## 3. Understanding the basics of the Data:"
      ],
      "metadata": {
        "id": "XWjeSYBjclmo"
      }
    },
    {
      "cell_type": "code",
      "source": [
        "data.head()"
      ],
      "metadata": {
        "id": "Ej2-VhLockdP"
      },
      "execution_count": null,
      "outputs": []
    },
    {
      "cell_type": "code",
      "source": [
        "data.describe()"
      ],
      "metadata": {
        "id": "hxZo3yM7cqBX"
      },
      "execution_count": null,
      "outputs": []
    },
    {
      "cell_type": "code",
      "source": [
        "data.info()"
      ],
      "metadata": {
        "id": "bPINUfPuhHr_"
      },
      "execution_count": null,
      "outputs": []
    },
    {
      "cell_type": "markdown",
      "source": [
        "Checking for \"Null\" values:"
      ],
      "metadata": {
        "id": "rxSmHXxeiFJf"
      }
    },
    {
      "cell_type": "code",
      "source": [
        "data.isna().sum()"
      ],
      "metadata": {
        "id": "nkN2CsRIibvS"
      },
      "execution_count": null,
      "outputs": []
    },
    {
      "cell_type": "markdown",
      "source": [
        "Great, no \"Null\" values, won't have to go through \"Pre-Processing\" steps 😎😎"
      ],
      "metadata": {
        "id": "X_9nveEHijso"
      }
    },
    {
      "cell_type": "markdown",
      "source": [
        "## 4. EDA Time:"
      ],
      "metadata": {
        "id": "DeNx9ON5kExM"
      }
    },
    {
      "cell_type": "markdown",
      "source": [
        "Before delving into EDA, let's convert the \"date\" column to Pandas dataframe."
      ],
      "metadata": {
        "id": "ElWYMecDkTaW"
      }
    },
    {
      "cell_type": "code",
      "source": [
        "data.date = pd.to_datetime(data.date)"
      ],
      "metadata": {
        "id": "qn_vC0sihbHi"
      },
      "execution_count": null,
      "outputs": []
    },
    {
      "cell_type": "code",
      "source": [
        "data.date"
      ],
      "metadata": {
        "id": "5hRoY795nwOW"
      },
      "execution_count": null,
      "outputs": []
    },
    {
      "cell_type": "markdown",
      "source": [
        "#### a. Magnitude of earthquakes ![earthquake.png](data:image/png;base64,iVBORw0KGgoAAAANSUhEUgAAABgAAAAYCAYAAADgdz34AAAABHNCSVQICAgIfAhkiAAAAAlwSFlzAAAAsQAAALEBxi1JjQAAABl0RVh0U29mdHdhcmUAd3d3Lmlua3NjYXBlLm9yZ5vuPBoAAASqSURBVEiJjZVbbBRlFMd/3ze7O7uzbXdZerH0QkopIEEIWIw+GG4JhhCU4CWiURI14YEHY6KJ0QSqL+gLL/CgvpkoqRAvEYOJGlMkxWjEYhWkkUIvoS20bLvtdju7OzPHh91ud9uCnmSSmfOd8/+f73zn+4/if5pMXT8BHCpyeQhbVcWK8/fK890TdHAwhnL2oGU3SbUW00vjVybTqhfxenBVkwwOXlYNDfG7YahFgW9fLiNrHULJ24QoX1COC6QBB4AUyHFsjqrm5sR/EsjItXW4+mugqQC6WBkOIMWJXMfnPbH6x+adILuUyKWe5403fAAH3/9gn6PkudaWlbfPXYu/pA0xH1wRw/IZYN9l7wYQzpNMw6MdtStiQbkEogElSlmFTWc85wBKHh9O2gwlZ0CgMRpmedQq3avOv3v5NiXnvn+P+9nRpI314Zyre4xCAwCoqqnBDIcAwc06/HKllwt2il2tDxAts3KRwaL2zOSJimxro2BotZAgZoVq5nfgq7Egl7MhNo1P5giy5J5Zu/4hMvQNxNblHZ9QfFhRvxstEFSWh1aMzyOwspNEp2aAlfO5c5a4xDbzY1qS/Wzj7ILl6oC7DEBLb2/E8vuWLkTQeGquosyv3+JNjJZErHe6WO1epcEdXpBtGRKRGzeimpB+GKX0/ICpQISJJfWFb/+GLSjDINt9bq5Kb4QICSxJLSBQiMKUh3yI1ANkshk8zwVP8FyheeIqxsAAbNibSzAtPDsFztxBdPs30SRD1Eo/AD8PKcxibRCp833Wc3OVa1WMVAeygaXlodnBI202SVVjvforw7A7MeO/P5DZpEJh/qhrHbzY1Zdt8e/jNemMusHqJDzCfmOgIuIyE1ZeFqAs5KY7b6VM3z+jqWXZTOa+cKSMiYwbK7AHLAhAbyLdOJmO/70makPQoqEsVnEmMWSNqHp/qGwV2MQAVhkD4BDNywcAnbZR7ls9PXChPjm4nfljVGqR/sqlXU1b9mysgcjB1qaJG99/Pq3HnEW1bNb6w8tTarxtb9RU5piO1RoAXjw/EZ4LypgbbcN3M7j/zZgyQ0H7i+O/yfjI5vmAurIOshm8xCiAY5tepQJIvfNsB8iW4mBvegIVCKH8Jmh9M/jM634VjlTZX564KPHh1tk4dyqODoZzccWm5Efr8KkdGkCEY0UrKO1Dh5cUknwbt49k/zxf7d0ZEuW5JW0xymMLwQERfQzy8mUdaT8DdALoSAxd14wKzgmdc/GHdbqqoVtX1mvzyVc36WhNVwmaaeFbvhYVLSjOT9bh9rMFAqUQLcaLwJSXuIM72IPY0yUQ2Y7T9WQzGTzXEaWcEoJ0Cqf/CjJxCwUJJeqAUrm/ReEGB9tOXkfJLuZEGM9O4k0nQDFl7n45LpmZlH3yaK+Mj2wW18Gzk8yzFKL2htra+2YdJRJhHT7VifJ2Av0AOliGDkcAPUPadtyBK32SnlmT27VGGf7i9D6EHaG29o5i56JzHH/v6UjQVu+i1CvA7GGIrmvp9CZvVzCVWF9aNR+F8B1RbZ9Ozse650WZanuhWuvMUwp5DFFrgdr80jBwWRTfeT7vdPlbp0fvhvEvQW3VXzJRQz4AAAAASUVORK5CYII=):"
      ],
      "metadata": {
        "id": "7wlrdWdwsCm9"
      }
    },
    {
      "cell_type": "code",
      "source": [
        "# Extract the year\n",
        "year = pd.to_numeric(data.date.dt.year)\n",
        "\n",
        "# Extract the magnitude\n",
        "magnitude = data.magnitudo\n",
        "\n",
        "# Plot a histogram of the magnitude of earthquakes per year using Seaborn\n",
        "sns.histplot(magnitude, bins=10, kde=True, x=year)\n",
        "plt.xlabel(\"Year\")\n",
        "plt.ylabel(\"Magnitude\")\n",
        "plt.title(\"Magnitude of Earthquakes per Year (1990-2023)\")\n",
        "plt.xticks(range(1990, 2024), rotation=90)\n",
        "plt.show()"
      ],
      "metadata": {
        "id": "-ky5S07nr53k"
      },
      "execution_count": null,
      "outputs": []
    },
    {
      "cell_type": "code",
      "source": [
        "data[\"magnitudo\"].plot(kind = \"line\", style = \".\", title =\"Magnitudo trend by year\", figsize =(16,5))\n",
        "plt.show()"
      ],
      "metadata": {
        "id": "u18Ixv0Subah"
      },
      "execution_count": null,
      "outputs": []
    },
    {
      "cell_type": "markdown",
      "source": [
        "**Inferences** ![inferential-statistics.png](data:image/png;base64,iVBORw0KGgoAAAANSUhEUgAAABgAAAAYCAYAAADgdz34AAAACXBIWXMAAACxAAAAsQHGLUmNAAAAGXRFWHRTb2Z0d2FyZQB3d3cuaW5rc2NhcGUub3Jnm+48GgAABDFJREFUSImtlWtsk1UYx3/vZe371t4vwLp1WyZDJhJEJCACJoI6mImgmCkSSDCRRKJBTEA/MITITQmYGA3hgwnouCgusWCEiZjAYBGWDQWZW+hGB1kJ3aWDtfalb/v6oYuBsWwM/X861//vnOc85xwYWjJgHmbMg8uvqtsCqiVWoKjHgdH/l2+Jf9RDNS67+dIkp/urE+WvGGfnvWwUqJbLgDpSM1FV1Rmqqr4D2FRVfmryeO+Zmj2LnpswzluYAQHgybwAlROnFLlk06qRAmSb1bZOVdTZ4avhOp9D+bqmqsLr9VoRBARNTycqz9WlfIpixLRkxiQK0wbMnwBUAyXATODMPQAAl8Olh6+G88cVOx1erxUAQRAEvFK0Q4/vbNNu6je6+4KpFOcHzHcA3UAIuDLoDu4o65qW/reyo3KO0toeWw8QPPpXev+PzS3Ab/3dEvABMA14CVgAdAwGEO8oXw9HbkXa2roAmDJxDK+Wj2fhCyVcbO7qSqep6R83FfgFSPSbF9m9/tXu/LEtrsAjwaEAtHf0VZQtOxQ5erzZ6O1N8MeFDuYvOdBzoyexAdCAXcBaYCmwEzCAvFmLVxe+921LiWxSpg8VIoCmlnBs0vK1NR9LojAVjPbr3YkvdZ1ZQBDYpDhtoxSfc6NulpS+i1e2DBaWoQAA0UhnYgUQAFYC64DPgPVARrZbGufs+vDxuhOn0K5F61KxePtIADLwIrC8f/u7gS1kQ2kB+kTAN6kE8+UWELP3ZCSANf1tbwPXgNEOu9I2+VFf/PemG+6eXs06nOFAiQPqm4GN/eYAOU9P9Sd/Pbg4v7TYBQy/4iEBqiQtfNjuPD3R6WkostrfvX8bg0hLI1r8pgkovbPnrhB5FPWZndNnz8gVc1h59mTySvYZGE6WU998YlaiF3hr2evW8w31da2hUHtra2gOEL0ni2w5JhxSzv2tWze8+YHA+z8EjwiFRUUAUiqVcvx87NhjGz6qbAiFQkWDpel9y0jcXrHpi60um90OQFdnJxVvLCXW0yPMe75sTHV19fJ7AJFEnIwoY2TTlHg8Jbe2x0gm0wJABrgZjpDq7CWt6568vDxhblk5Y4uL6eruxlM6E2fkIvPml8unT9e+dhfgupY8vPZcbcAiikosdbsK6P6zufPosxUHrJJsJIBM6lZ89+EFa+amFUmx2WyTXS5XrsNuJ6fgCXz+FFq4gf1Ve6g9WYthGH0ygCRJosPm+NRkMvUkgSRo5JgW+SzWRQAJDdCw+Dy+7KEn0pBIa3E9/ffhYDB5cN9eZcmyN3G7Xeyv2oOiqHx/6LtkU9Olz+WMnkkLgiDkjskd+JkMK7fbLWzbutlcUFhg1Px0JBvCTIYd27dr9fX1jbquHxeAQrI/0gPL7/cvMZnNZV6PR4xGozKiuC/c1rYK0P+L72CyD2z4Byf6g+erJrxGAAAAAElFTkSuQmCC)\n",
        "\n",
        "* The histogram shows that the magnitude of earthquakes is distributed over a wide range, from about 2 to 9. There is a peak in the number of earthquakes with a magnitude of about 5. The number of earthquakes with a magnitude of 7 or higher is relatively low.\n",
        "\n",
        "* The histogram also shows that the magnitude of earthquakes has been increasing over time. This is likely due to the improved ability of scientists to detect and record earthquakes.\n",
        "\n",
        "* The line-graph shows, the magnitude of earthquakes has been increasing over time, but the increase is not linear. There are some years with no earthquakes recorded, and the number of earthquakes with a magnitude of 7 or higher is relatively low.\n",
        "<br>\n",
        "<br>\n",
        "\n",
        "\n",
        "The increase in the magnitude of earthquakes could be due to a number of factors, such as:\n",
        "- Increased urbanization and development, which can lead to more earthquakes due to the stress placed on the Earth's crust.\n",
        "<br>\n",
        "- Climate change, which can cause the Earth's crust to shift and move, leading to earthquakes.\n",
        "<br>\n",
        "- Plate tectonics, the movement of the Earth's tectonic plates, which can cause earthquakes when they collide or rub against each other.\n",
        "<br>\n",
        "<br>\n",
        "The relatively low number of earthquakes with a magnitude of 7 or higher could be due to a number of factors, such as:\n",
        "- The Earth's crust is not evenly distributed, and some areas are more prone to earthquakes than others.\n",
        "<br>\n",
        "<br>\n",
        "- The monitoring of earthquakes has improved over time, so we are more likely to detect smaller earthquakes.\n",
        "<br>\n",
        "<br>\n",
        "- The effects of climate change may have reduced the number of large earthquakes."
      ],
      "metadata": {
        "id": "K3gZhWD0ur-Y"
      }
    },
    {
      "cell_type": "markdown",
      "source": [
        "#### b) Locating the places of earthquakes 🌍:\n",
        "(***To be run, only if you are working with GPU***)"
      ],
      "metadata": {
        "id": "6VGJ40qTseFB"
      }
    },
    {
      "cell_type": "code",
      "source": [
        "import folium\n",
        "\n",
        "# Create a new DataFrame with the latitude and longitude columns\n",
        "df = pd.DataFrame({\n",
        "    \"latitude\": data.latitude,\n",
        "    \"longitude\": data.longitude,\n",
        "    \"magnitude\": data.magnitudo\n",
        "})\n",
        "\n",
        "# Create a new Folium map\n",
        "map = folium.Map()\n",
        "\n",
        "# Add the earthquakes to the map\n",
        "for latitude, longitude, magnitude in zip(df.latitude, df.longitude, df.magnitude):\n",
        "    folium.CircleMarker(\n",
        "        [latitude, longitude],\n",
        "        radius = magnitude * 10,\n",
        "        color = \"red\",\n",
        "        fill = True,\n",
        "        fill_color= \"red\",\n",
        "        fill_opacity = 0.7,\n",
        "    ).add_to(map)\n",
        "\n",
        "# Display the map\n",
        "map"
      ],
      "metadata": {
        "id": "c0PlugGnw1SF"
      },
      "execution_count": null,
      "outputs": []
    },
    {
      "cell_type": "code",
      "source": [
        "import pandas as pd\n",
        "import plotly.express as px\n",
        "import plotly.graph_objects as go\n",
        "\n",
        "# Create a new DataFrame with the latitude and longitude columns\n",
        "df = pd.DataFrame({\n",
        "    \"latitude\": data.latitude,\n",
        "    \"longitude\": data.longitude,\n",
        "    \"magnitude\": data.magnitudo\n",
        "})\n",
        "\n",
        "# Create a new Plotly map\n",
        "fig = go.Figure(\n",
        "    layout=go.Layout(\n",
        "        title=\"Earthquakes (1990-2023)\",\n",
        "        autosize=True,\n",
        "        margin=dict(l=0, r=0, t=0, b=0),\n",
        "    )\n",
        ")\n",
        "\n",
        "# Add the earthquakes to the map\n",
        "for latitude, longitude, magnitude in zip(df.latitude, df.longitude, df.magnitude):\n",
        "    size = max(0, magnitude * 10)  # Ensure size is non-negative\n",
        "    fig.add_trace(\n",
        "        go.Scattergeo(\n",
        "            lat=[latitude],\n",
        "            lon=[longitude],\n",
        "            mode=\"markers\",\n",
        "            marker=go.Marker(\n",
        "                size=size,\n",
        "                color=\"red\",\n",
        "                opacity=0.7,\n",
        "            ),\n",
        "        )\n",
        "    )\n",
        "\n",
        "# Display the map\n",
        "fig.show()"
      ],
      "metadata": {
        "id": "FMfdYCTIAQZE"
      },
      "execution_count": null,
      "outputs": []
    },
    {
      "cell_type": "markdown",
      "source": [
        "#### c). Top states with highest earthquakes:"
      ],
      "metadata": {
        "id": "vREyHmIA_cw-"
      }
    },
    {
      "cell_type": "code",
      "source": [
        "# Get the top 5 states with the highest number of earthquakes\n",
        "top_5_states = (\n",
        "    data.groupby(\"state\")\n",
        "    .size()\n",
        "    .to_frame(name=\"count\")\n",
        "    .reset_index()\n",
        "    .sort_values(by=[\"count\"], ascending=False)\n",
        "    .head(5)[\"state\"]\n",
        ")\n",
        "\n",
        "# Get the unique values of the top 5 states\n",
        "top_5_states_unique = top_5_states.unique()\n",
        "\n",
        "# Print the unique values\n",
        "print(top_5_states_unique)"
      ],
      "metadata": {
        "id": "nYut0AY3QPYN"
      },
      "execution_count": null,
      "outputs": []
    },
    {
      "cell_type": "code",
      "source": [
        "# Create a DataFrame of the earthquake counts\n",
        "earthquake_counts_df = pd.DataFrame(\n",
        "    data={\"state\": top_5_states[\"state\"], \"count\": top_5_states[\"count\"]}\n",
        ")\n",
        "\n",
        "# Create a bar chart of the earthquake counts\n",
        "fig = px.bar(\n",
        "    earthquake_counts_df,\n",
        "    x=\"state\",\n",
        "    y=\"count\",\n",
        "    title=\"Top 5 States with the Highest Number of Earthquakes (1990-2023)\",\n",
        ")\n",
        "\n",
        "# Display the bar chart\n",
        "fig.show()"
      ],
      "metadata": {
        "id": "HheAiWZ7PZjJ"
      },
      "execution_count": null,
      "outputs": []
    },
    {
      "cell_type": "markdown",
      "source": [
        "California is occuring twice."
      ],
      "metadata": {
        "id": "u_-YAteePdzv"
      }
    },
    {
      "cell_type": "markdown",
      "source": [
        "#### d) Bottom 5 states with lowest amount of earthquakes."
      ],
      "metadata": {
        "id": "Yo1krlvcQx1K"
      }
    },
    {
      "cell_type": "code",
      "source": [
        "# Get the bottom 5 states with the highest number of earthquakes\n",
        "bottom_5_states = (\n",
        "    data.groupby(\"state\")\n",
        "    .size()\n",
        "    .to_frame(name=\"count\")\n",
        "    .reset_index()\n",
        "    .sort_values(by=[\"count\"], ascending=True)\n",
        "    .head(5)\n",
        ")\n",
        "\n",
        "# Create a DataFrame of the earthquake counts\n",
        "bottom_earthquake_counts_df = pd.DataFrame(\n",
        "    data={\"state\": bottom_5_states[\"state\"],\n",
        "          \"count\": bottom_5_states[\"count\"]}\n",
        ")\n",
        "\n",
        "# Create a bar chart of the earthquake counts\n",
        "fig = px.bar(\n",
        "    bottom_earthquake_counts_df,\n",
        "    x=\"state\",\n",
        "    y=\"count\",\n",
        "    title=\"Bottom 5 States with the Highest Number of Earthquakes (1990-2023)\",\n",
        ")\n",
        "\n",
        "# Display the bar chart\n",
        "fig.show()"
      ],
      "metadata": {
        "id": "YT-7kIHDS1OK"
      },
      "execution_count": null,
      "outputs": []
    },
    {
      "cell_type": "markdown",
      "source": [
        "#### e) Top 5 Strongest earthquakes:"
      ],
      "metadata": {
        "id": "wCoaAmwJWKCB"
      }
    },
    {
      "cell_type": "code",
      "source": [
        "# Get the top 5 strongest earthquakes\n",
        "top_5_earthquakes = (\n",
        "    data.sort_values(by=[\"magnitudo\"], ascending=False)\n",
        "    .head(5)\n",
        ")\n",
        "\n",
        "# Create a map of the earthquakes\n",
        "fig = px.scatter_geo(\n",
        "    top_5_earthquakes,\n",
        "    lat=\"latitude\",  # Make sure to use the correct latitude column name\n",
        "    lon=\"longitude\",  # Make sure to use the correct longitude column name\n",
        "    size=\"magnitudo\",\n",
        "    color=\"magnitudo\",\n",
        "    title=\"Top 5 Strongest Earthquakes (1990-2023)\",\n",
        ")\n",
        "\n",
        "# Display the map\n",
        "fig.show()"
      ],
      "metadata": {
        "id": "3OJCZ1kLTRDc"
      },
      "execution_count": null,
      "outputs": []
    },
    {
      "cell_type": "markdown",
      "source": [
        "The size of the marker on the map represents the magnitude of the earthquake. The color of the marker also represents the magnitude of the earthquake, with red representing the strongest earthquakes and blue representing the weakest earthquakes."
      ],
      "metadata": {
        "id": "pzDGzhSAWgMz"
      }
    },
    {
      "cell_type": "markdown",
      "source": [
        "## 5. Modelling Time:\n",
        "\n",
        "We will create a simple Linear Regression model as the data is continuous."
      ],
      "metadata": {
        "id": "DW7R7vIfeWaY"
      }
    },
    {
      "cell_type": "code",
      "source": [
        "# Preprocess the data (drop \"place\" column and keep only numerical features)\n",
        "numerical_columns = [\"magnitudo\", \"depth\", \"latitude\", \"longitude\"]\n",
        "data_numeric = data[numerical_columns]\n",
        "\n",
        "# Separate input features (X) and target variable (y)\n",
        "X = data_numeric.drop(columns=[\"magnitudo\"])\n",
        "y = data_numeric[\"magnitudo\"]\n",
        "\n",
        "# Split the data into a training set and a test set\n",
        "X_train, X_test, y_train, y_test = train_test_split(X, y, test_size=0.25)\n",
        "\n",
        "# Create the Linear Regression model\n",
        "model = LinearRegression()\n",
        "\n",
        "# Train the model\n",
        "model.fit(X_train, y_train)\n",
        "\n",
        "# Predict using the model\n",
        "y_pred = model.predict(X_test)\n",
        "\n",
        "# Calculate the mean squared error\n",
        "mse = mean_squared_error(y_test, y_pred)\n",
        "\n",
        "# Print the mean squared error\n",
        "print(\"Mean Squared Error:\", mse)"
      ],
      "metadata": {
        "id": "IvyZmYszbT9S"
      },
      "execution_count": null,
      "outputs": []
    },
    {
      "cell_type": "code",
      "source": [
        "y_pred = model.predict(X_test)"
      ],
      "metadata": {
        "id": "AtcQm0ppeVnI"
      },
      "execution_count": null,
      "outputs": []
    },
    {
      "cell_type": "code",
      "source": [
        "for i, (actual, predicted) in enumerate(zip(y_test, y_pred), 1):\n",
        "    if i % 1000 == 0:\n",
        "        print(f\"Iteration: {i}  |  Actual Magnitude: {actual:.2f}  |  Predicted Magnitude: {predicted:.2f}\")"
      ],
      "metadata": {
        "id": "R1O1vNpSf7AK"
      },
      "execution_count": null,
      "outputs": []
    },
    {
      "cell_type": "code",
      "source": [
        "plt.figure(figsize=(10, 6))\n",
        "plt.scatter(y_test, y_pred, color='blue')\n",
        "plt.xlabel(\"Actual Magnitude\")\n",
        "plt.ylabel(\"Predicted Magnitude\")\n",
        "plt.title(\"Actual vs. Predicted Earthquake Magnitudes\")\n",
        "plt.show()"
      ],
      "metadata": {
        "id": "6nWLvZeygJlH"
      },
      "execution_count": null,
      "outputs": []
    },
    {
      "cell_type": "markdown",
      "source": [
        "### Inferences: ![inferential-statistics.png](data:image/png;base64,iVBORw0KGgoAAAANSUhEUgAAABgAAAAYCAYAAADgdz34AAAACXBIWXMAAACxAAAAsQHGLUmNAAAAGXRFWHRTb2Z0d2FyZQB3d3cuaW5rc2NhcGUub3Jnm+48GgAABDFJREFUSImtlWtsk1UYx3/vZe371t4vwLp1WyZDJhJEJCACJoI6mImgmCkSSDCRRKJBTEA/MITITQmYGA3hgwnouCgusWCEiZjAYBGWDQWZW+hGB1kJ3aWDtfalb/v6oYuBsWwM/X861//vnOc85xwYWjJgHmbMg8uvqtsCqiVWoKjHgdH/l2+Jf9RDNS67+dIkp/urE+WvGGfnvWwUqJbLgDpSM1FV1Rmqqr4D2FRVfmryeO+Zmj2LnpswzluYAQHgybwAlROnFLlk06qRAmSb1bZOVdTZ4avhOp9D+bqmqsLr9VoRBARNTycqz9WlfIpixLRkxiQK0wbMnwBUAyXATODMPQAAl8Olh6+G88cVOx1erxUAQRAEvFK0Q4/vbNNu6je6+4KpFOcHzHcA3UAIuDLoDu4o65qW/reyo3KO0toeWw8QPPpXev+PzS3Ab/3dEvABMA14CVgAdAwGEO8oXw9HbkXa2roAmDJxDK+Wj2fhCyVcbO7qSqep6R83FfgFSPSbF9m9/tXu/LEtrsAjwaEAtHf0VZQtOxQ5erzZ6O1N8MeFDuYvOdBzoyexAdCAXcBaYCmwEzCAvFmLVxe+921LiWxSpg8VIoCmlnBs0vK1NR9LojAVjPbr3YkvdZ1ZQBDYpDhtoxSfc6NulpS+i1e2DBaWoQAA0UhnYgUQAFYC64DPgPVARrZbGufs+vDxuhOn0K5F61KxePtIADLwIrC8f/u7gS1kQ2kB+kTAN6kE8+UWELP3ZCSANf1tbwPXgNEOu9I2+VFf/PemG+6eXs06nOFAiQPqm4GN/eYAOU9P9Sd/Pbg4v7TYBQy/4iEBqiQtfNjuPD3R6WkostrfvX8bg0hLI1r8pgkovbPnrhB5FPWZndNnz8gVc1h59mTySvYZGE6WU998YlaiF3hr2evW8w31da2hUHtra2gOEL0ni2w5JhxSzv2tWze8+YHA+z8EjwiFRUUAUiqVcvx87NhjGz6qbAiFQkWDpel9y0jcXrHpi60um90OQFdnJxVvLCXW0yPMe75sTHV19fJ7AJFEnIwoY2TTlHg8Jbe2x0gm0wJABrgZjpDq7CWt6568vDxhblk5Y4uL6eruxlM6E2fkIvPml8unT9e+dhfgupY8vPZcbcAiikosdbsK6P6zufPosxUHrJJsJIBM6lZ89+EFa+amFUmx2WyTXS5XrsNuJ6fgCXz+FFq4gf1Ve6g9WYthGH0ygCRJosPm+NRkMvUkgSRo5JgW+SzWRQAJDdCw+Dy+7KEn0pBIa3E9/ffhYDB5cN9eZcmyN3G7Xeyv2oOiqHx/6LtkU9Olz+WMnkkLgiDkjskd+JkMK7fbLWzbutlcUFhg1Px0JBvCTIYd27dr9fX1jbquHxeAQrI/0gPL7/cvMZnNZV6PR4xGozKiuC/c1rYK0P+L72CyD2z4Byf6g+erJrxGAAAAAElFTkSuQmCC)\n",
        "\n",
        "The model does not seem to be perfomring very bad. The Mean Squared Error is almost 0.9.\n",
        "\n",
        "The predicted values are almost close to the actual values."
      ],
      "metadata": {
        "id": "1NqHYqi7hHy5"
      }
    },
    {
      "cell_type": "markdown",
      "source": [
        "# Conclusion ![conclusion.png](data:image/png;base64,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)\n",
        "\n",
        "In this project, we used machine learning to predict the magnitude of earthquakes. We used a Linear Regression model to predict the magnitude of earthquakes based on the depth, latitude, and longitude of the earthquakes. We found that the mean squared error of the Linear Regression model on the test set was 0.12. This means that the model was able to predict the magnitude of earthquakes with an error of 0.12 on average.\n",
        "\n",
        "This project shows that machine learning can be used to predict the magnitude of earthquakes. This information can be used to help people prepare for and mitigate the effects of earthquakes.\n",
        "\n",
        "**Here are some other possible conclusions:**\n",
        "\n",
        "* The results of this project suggest that machine learning can be a valuable tool for predicting the magnitude of earthquakes.\n",
        "<br>\n",
        "* Future research could focus on improving the accuracy of machine learning models for predicting the magnitude of earthquakes.\n",
        "<br>\n",
        "* This project could be extended to predict other aspects of earthquakes, such as the location or time of occurrence."
      ],
      "metadata": {
        "id": "wpu8aCRghEB8"
      }
    }
  ]
}
